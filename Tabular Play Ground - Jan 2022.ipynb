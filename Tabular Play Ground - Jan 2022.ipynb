{
  "nbformat": 4,
  "nbformat_minor": 0,
  "metadata": {
    "colab": {
      "name": "Untitled9.ipynb",
      "provenance": [],
      "collapsed_sections": [],
      "authorship_tag": "ABX9TyNRumX7j3yAT7MZWztf06A3",
      "include_colab_link": true
    },
    "kernelspec": {
      "name": "python3",
      "display_name": "Python 3"
    },
    "language_info": {
      "name": "python"
    }
  },
  "cells": [
    {
      "cell_type": "markdown",
      "metadata": {
        "id": "view-in-github",
        "colab_type": "text"
      },
      "source": [
        "<a href=\"https://colab.research.google.com/github/vinaydsprj/Basic-ML/blob/main/Tabular%20Play%20Ground%20-%20Jan%202022.ipynb\" target=\"_parent\"><img src=\"https://colab.research.google.com/assets/colab-badge.svg\" alt=\"Open In Colab\"/></a>"
      ]
    },
    {
      "cell_type": "code",
      "execution_count": 1,
      "metadata": {
        "colab": {
          "base_uri": "https://localhost:8080/",
          "height": 455
        },
        "id": "qCVLNG8OHIn7",
        "outputId": "ef72e6d0-2744-44a1-98a6-16cc50bdda23"
      },
      "outputs": [
        {
          "output_type": "execute_result",
          "data": {
            "text/html": [
              "\n",
              "  <div id=\"df-527bcae9-8a09-4196-80db-f3b138e10a3f\">\n",
              "    <div class=\"colab-df-container\">\n",
              "      <div>\n",
              "<style scoped>\n",
              "    .dataframe tbody tr th:only-of-type {\n",
              "        vertical-align: middle;\n",
              "    }\n",
              "\n",
              "    .dataframe tbody tr th {\n",
              "        vertical-align: top;\n",
              "    }\n",
              "\n",
              "    .dataframe thead th {\n",
              "        text-align: right;\n",
              "    }\n",
              "</style>\n",
              "<table border=\"1\" class=\"dataframe\">\n",
              "  <thead>\n",
              "    <tr style=\"text-align: right;\">\n",
              "      <th></th>\n",
              "      <th>country</th>\n",
              "      <th>store</th>\n",
              "      <th>product</th>\n",
              "      <th>num_sold</th>\n",
              "      <th>year</th>\n",
              "      <th>month</th>\n",
              "      <th>day</th>\n",
              "      <th>week</th>\n",
              "      <th>weekday</th>\n",
              "      <th>weekend</th>\n",
              "      <th>day_of_yr</th>\n",
              "      <th>quarter</th>\n",
              "    </tr>\n",
              "    <tr>\n",
              "      <th>row_id</th>\n",
              "      <th></th>\n",
              "      <th></th>\n",
              "      <th></th>\n",
              "      <th></th>\n",
              "      <th></th>\n",
              "      <th></th>\n",
              "      <th></th>\n",
              "      <th></th>\n",
              "      <th></th>\n",
              "      <th></th>\n",
              "      <th></th>\n",
              "      <th></th>\n",
              "    </tr>\n",
              "  </thead>\n",
              "  <tbody>\n",
              "    <tr>\n",
              "      <th>0</th>\n",
              "      <td>Finland</td>\n",
              "      <td>KaggleMart</td>\n",
              "      <td>Kaggle Mug</td>\n",
              "      <td>329</td>\n",
              "      <td>2015</td>\n",
              "      <td>1</td>\n",
              "      <td>1</td>\n",
              "      <td>1</td>\n",
              "      <td>3</td>\n",
              "      <td>0</td>\n",
              "      <td>1</td>\n",
              "      <td>1</td>\n",
              "    </tr>\n",
              "    <tr>\n",
              "      <th>1</th>\n",
              "      <td>Finland</td>\n",
              "      <td>KaggleMart</td>\n",
              "      <td>Kaggle Hat</td>\n",
              "      <td>520</td>\n",
              "      <td>2015</td>\n",
              "      <td>1</td>\n",
              "      <td>1</td>\n",
              "      <td>1</td>\n",
              "      <td>3</td>\n",
              "      <td>0</td>\n",
              "      <td>1</td>\n",
              "      <td>1</td>\n",
              "    </tr>\n",
              "    <tr>\n",
              "      <th>2</th>\n",
              "      <td>Finland</td>\n",
              "      <td>KaggleMart</td>\n",
              "      <td>Kaggle Sticker</td>\n",
              "      <td>146</td>\n",
              "      <td>2015</td>\n",
              "      <td>1</td>\n",
              "      <td>1</td>\n",
              "      <td>1</td>\n",
              "      <td>3</td>\n",
              "      <td>0</td>\n",
              "      <td>1</td>\n",
              "      <td>1</td>\n",
              "    </tr>\n",
              "    <tr>\n",
              "      <th>3</th>\n",
              "      <td>Finland</td>\n",
              "      <td>KaggleRama</td>\n",
              "      <td>Kaggle Mug</td>\n",
              "      <td>572</td>\n",
              "      <td>2015</td>\n",
              "      <td>1</td>\n",
              "      <td>1</td>\n",
              "      <td>1</td>\n",
              "      <td>3</td>\n",
              "      <td>0</td>\n",
              "      <td>1</td>\n",
              "      <td>1</td>\n",
              "    </tr>\n",
              "    <tr>\n",
              "      <th>4</th>\n",
              "      <td>Finland</td>\n",
              "      <td>KaggleRama</td>\n",
              "      <td>Kaggle Hat</td>\n",
              "      <td>911</td>\n",
              "      <td>2015</td>\n",
              "      <td>1</td>\n",
              "      <td>1</td>\n",
              "      <td>1</td>\n",
              "      <td>3</td>\n",
              "      <td>0</td>\n",
              "      <td>1</td>\n",
              "      <td>1</td>\n",
              "    </tr>\n",
              "    <tr>\n",
              "      <th>...</th>\n",
              "      <td>...</td>\n",
              "      <td>...</td>\n",
              "      <td>...</td>\n",
              "      <td>...</td>\n",
              "      <td>...</td>\n",
              "      <td>...</td>\n",
              "      <td>...</td>\n",
              "      <td>...</td>\n",
              "      <td>...</td>\n",
              "      <td>...</td>\n",
              "      <td>...</td>\n",
              "      <td>...</td>\n",
              "    </tr>\n",
              "    <tr>\n",
              "      <th>26293</th>\n",
              "      <td>Sweden</td>\n",
              "      <td>KaggleMart</td>\n",
              "      <td>Kaggle Hat</td>\n",
              "      <td>823</td>\n",
              "      <td>2018</td>\n",
              "      <td>12</td>\n",
              "      <td>31</td>\n",
              "      <td>1</td>\n",
              "      <td>0</td>\n",
              "      <td>0</td>\n",
              "      <td>365</td>\n",
              "      <td>4</td>\n",
              "    </tr>\n",
              "    <tr>\n",
              "      <th>26294</th>\n",
              "      <td>Sweden</td>\n",
              "      <td>KaggleMart</td>\n",
              "      <td>Kaggle Sticker</td>\n",
              "      <td>250</td>\n",
              "      <td>2018</td>\n",
              "      <td>12</td>\n",
              "      <td>31</td>\n",
              "      <td>1</td>\n",
              "      <td>0</td>\n",
              "      <td>0</td>\n",
              "      <td>365</td>\n",
              "      <td>4</td>\n",
              "    </tr>\n",
              "    <tr>\n",
              "      <th>26295</th>\n",
              "      <td>Sweden</td>\n",
              "      <td>KaggleRama</td>\n",
              "      <td>Kaggle Mug</td>\n",
              "      <td>1004</td>\n",
              "      <td>2018</td>\n",
              "      <td>12</td>\n",
              "      <td>31</td>\n",
              "      <td>1</td>\n",
              "      <td>0</td>\n",
              "      <td>0</td>\n",
              "      <td>365</td>\n",
              "      <td>4</td>\n",
              "    </tr>\n",
              "    <tr>\n",
              "      <th>26296</th>\n",
              "      <td>Sweden</td>\n",
              "      <td>KaggleRama</td>\n",
              "      <td>Kaggle Hat</td>\n",
              "      <td>1441</td>\n",
              "      <td>2018</td>\n",
              "      <td>12</td>\n",
              "      <td>31</td>\n",
              "      <td>1</td>\n",
              "      <td>0</td>\n",
              "      <td>0</td>\n",
              "      <td>365</td>\n",
              "      <td>4</td>\n",
              "    </tr>\n",
              "    <tr>\n",
              "      <th>26297</th>\n",
              "      <td>Sweden</td>\n",
              "      <td>KaggleRama</td>\n",
              "      <td>Kaggle Sticker</td>\n",
              "      <td>388</td>\n",
              "      <td>2018</td>\n",
              "      <td>12</td>\n",
              "      <td>31</td>\n",
              "      <td>1</td>\n",
              "      <td>0</td>\n",
              "      <td>0</td>\n",
              "      <td>365</td>\n",
              "      <td>4</td>\n",
              "    </tr>\n",
              "  </tbody>\n",
              "</table>\n",
              "<p>26298 rows × 12 columns</p>\n",
              "</div>\n",
              "      <button class=\"colab-df-convert\" onclick=\"convertToInteractive('df-527bcae9-8a09-4196-80db-f3b138e10a3f')\"\n",
              "              title=\"Convert this dataframe to an interactive table.\"\n",
              "              style=\"display:none;\">\n",
              "        \n",
              "  <svg xmlns=\"http://www.w3.org/2000/svg\" height=\"24px\"viewBox=\"0 0 24 24\"\n",
              "       width=\"24px\">\n",
              "    <path d=\"M0 0h24v24H0V0z\" fill=\"none\"/>\n",
              "    <path d=\"M18.56 5.44l.94 2.06.94-2.06 2.06-.94-2.06-.94-.94-2.06-.94 2.06-2.06.94zm-11 1L8.5 8.5l.94-2.06 2.06-.94-2.06-.94L8.5 2.5l-.94 2.06-2.06.94zm10 10l.94 2.06.94-2.06 2.06-.94-2.06-.94-.94-2.06-.94 2.06-2.06.94z\"/><path d=\"M17.41 7.96l-1.37-1.37c-.4-.4-.92-.59-1.43-.59-.52 0-1.04.2-1.43.59L10.3 9.45l-7.72 7.72c-.78.78-.78 2.05 0 2.83L4 21.41c.39.39.9.59 1.41.59.51 0 1.02-.2 1.41-.59l7.78-7.78 2.81-2.81c.8-.78.8-2.07 0-2.86zM5.41 20L4 18.59l7.72-7.72 1.47 1.35L5.41 20z\"/>\n",
              "  </svg>\n",
              "      </button>\n",
              "      \n",
              "  <style>\n",
              "    .colab-df-container {\n",
              "      display:flex;\n",
              "      flex-wrap:wrap;\n",
              "      gap: 12px;\n",
              "    }\n",
              "\n",
              "    .colab-df-convert {\n",
              "      background-color: #E8F0FE;\n",
              "      border: none;\n",
              "      border-radius: 50%;\n",
              "      cursor: pointer;\n",
              "      display: none;\n",
              "      fill: #1967D2;\n",
              "      height: 32px;\n",
              "      padding: 0 0 0 0;\n",
              "      width: 32px;\n",
              "    }\n",
              "\n",
              "    .colab-df-convert:hover {\n",
              "      background-color: #E2EBFA;\n",
              "      box-shadow: 0px 1px 2px rgba(60, 64, 67, 0.3), 0px 1px 3px 1px rgba(60, 64, 67, 0.15);\n",
              "      fill: #174EA6;\n",
              "    }\n",
              "\n",
              "    [theme=dark] .colab-df-convert {\n",
              "      background-color: #3B4455;\n",
              "      fill: #D2E3FC;\n",
              "    }\n",
              "\n",
              "    [theme=dark] .colab-df-convert:hover {\n",
              "      background-color: #434B5C;\n",
              "      box-shadow: 0px 1px 3px 1px rgba(0, 0, 0, 0.15);\n",
              "      filter: drop-shadow(0px 1px 2px rgba(0, 0, 0, 0.3));\n",
              "      fill: #FFFFFF;\n",
              "    }\n",
              "  </style>\n",
              "\n",
              "      <script>\n",
              "        const buttonEl =\n",
              "          document.querySelector('#df-527bcae9-8a09-4196-80db-f3b138e10a3f button.colab-df-convert');\n",
              "        buttonEl.style.display =\n",
              "          google.colab.kernel.accessAllowed ? 'block' : 'none';\n",
              "\n",
              "        async function convertToInteractive(key) {\n",
              "          const element = document.querySelector('#df-527bcae9-8a09-4196-80db-f3b138e10a3f');\n",
              "          const dataTable =\n",
              "            await google.colab.kernel.invokeFunction('convertToInteractive',\n",
              "                                                     [key], {});\n",
              "          if (!dataTable) return;\n",
              "\n",
              "          const docLinkHtml = 'Like what you see? Visit the ' +\n",
              "            '<a target=\"_blank\" href=https://colab.research.google.com/notebooks/data_table.ipynb>data table notebook</a>'\n",
              "            + ' to learn more about interactive tables.';\n",
              "          element.innerHTML = '';\n",
              "          dataTable['output_type'] = 'display_data';\n",
              "          await google.colab.output.renderOutput(dataTable, element);\n",
              "          const docLink = document.createElement('div');\n",
              "          docLink.innerHTML = docLinkHtml;\n",
              "          element.appendChild(docLink);\n",
              "        }\n",
              "      </script>\n",
              "    </div>\n",
              "  </div>\n",
              "  "
            ],
            "text/plain": [
              "        country       store         product  ...  weekend  day_of_yr  quarter\n",
              "row_id                                       ...                             \n",
              "0       Finland  KaggleMart      Kaggle Mug  ...        0          1        1\n",
              "1       Finland  KaggleMart      Kaggle Hat  ...        0          1        1\n",
              "2       Finland  KaggleMart  Kaggle Sticker  ...        0          1        1\n",
              "3       Finland  KaggleRama      Kaggle Mug  ...        0          1        1\n",
              "4       Finland  KaggleRama      Kaggle Hat  ...        0          1        1\n",
              "...         ...         ...             ...  ...      ...        ...      ...\n",
              "26293    Sweden  KaggleMart      Kaggle Hat  ...        0        365        4\n",
              "26294    Sweden  KaggleMart  Kaggle Sticker  ...        0        365        4\n",
              "26295    Sweden  KaggleRama      Kaggle Mug  ...        0        365        4\n",
              "26296    Sweden  KaggleRama      Kaggle Hat  ...        0        365        4\n",
              "26297    Sweden  KaggleRama  Kaggle Sticker  ...        0        365        4\n",
              "\n",
              "[26298 rows x 12 columns]"
            ]
          },
          "metadata": {},
          "execution_count": 1
        }
      ],
      "source": [
        "import pandas as pd\n",
        "import numpy as np\n",
        "\n",
        "df = pd.read_csv('train.csv',index_col=['row_id'] )\n",
        "# df['x_day'] = pd.DatetimeIndex(df['date']).day\n",
        "df['date'] = pd.to_datetime(df['date'], format='%Y-%m-%d')\n",
        "\n",
        "\n",
        "\n",
        "\n",
        "df['year']       = df['date'].dt.year\n",
        "df['month']      = df['date'].dt.month\n",
        "df['day']        = df['date'].dt.day\n",
        "df['week']       = df['date'].dt.isocalendar().week\n",
        "df['weekday']    = df['date'].dt.weekday\n",
        "df['weekend']    = (df['date'].dt.weekday>4).astype(int)\n",
        "df['day_of_yr']  = df['date'].dt.dayofyear\n",
        "df['quarter']    = df['date'].dt.quarter\n",
        "\n",
        "# df['day'] = df['date'].dt.dayofweek\n",
        "# df['month_start'] = df['x_day'].apply(lambda x : 1 if (x < 8 ) else 0)\n",
        "# df['x_weekend'] = df['day'].apply(lambda x: 1 if (x >=5 ) else 0)\n",
        "\n",
        "# df.drop(columns=[ 'x_day', 'day'], axis = 1, inplace= True)\n",
        "\n",
        "# # df.reindex(columns=['Name', 'Gender', 'Age', 'City', 'Education'])\n",
        "\n",
        "# df = df.reindex(columns= ['country','date', 'store', 'product', 'month_start', 'x_weekend', 'num_sold'])\n",
        "\n",
        "df = df.drop([ 'date'], axis = 1 )\n",
        "\n",
        "\n",
        "df"
      ]
    },
    {
      "cell_type": "code",
      "source": [
        "# from scipy import stats\n",
        "\n",
        "# print(df.shape)\n",
        "\n",
        "# from scipy import stats\n",
        "\n",
        "# df['z_score']=stats.zscore(df['num_sold'])\n",
        "\n",
        "\n",
        "# filt = df['z_score'].abs() < 3\n",
        "# print(df.shape)"
      ],
      "metadata": {
        "id": "uBAQReG5dnL_"
      },
      "execution_count": 2,
      "outputs": []
    },
    {
      "cell_type": "code",
      "source": [
        "# counter = 0\n",
        "# rs,cs = df.shape\n",
        "\n",
        "# df.drop_duplicates(inplace=True)\n",
        "\n",
        "# if df.shape==(rs,cs):\n",
        "#     print('\\n\\033[1mInference:\\033[0m The dataset doesn\\'t have any duplicates')\n",
        "# else:\n",
        "#     print(f'\\n\\033[1mInference:\\033[0m Number of duplicates dropped/fixed ---> {rs-df.shape[0]}')"
      ],
      "metadata": {
        "id": "7COfEgqFSsZJ"
      },
      "execution_count": 3,
      "outputs": []
    },
    {
      "cell_type": "code",
      "source": [
        "# df = pd.DataFrame(df.isnull().sum().sort_values(), columns=['Total Null Values'])\n",
        "# df['Percentage'] = round(df['Total Null Values']/df.shape[0],3)*100\n",
        "# print(df)\n",
        "\n",
        "# print(\"\\n\\033[1mInference:\\033[0m The datset doesn't have any inconsistant values.\")"
      ],
      "metadata": {
        "id": "MDhxn9-7UXls"
      },
      "execution_count": 4,
      "outputs": []
    },
    {
      "cell_type": "code",
      "source": [
        "# import pandas as pd\n",
        "# import numpy as np\n",
        "\n",
        "# df1 = pd.read_csv('test.csv',index_col=['row_id'] )\n",
        "# df1['x_day'] = pd.DatetimeIndex(df1['date']).day\n",
        "# df1['date'] = pd.to_datetime(df1['date'], format='%Y-%m-%d')\n",
        "\n",
        "# df1['day'] = df1['date'].dt.dayofweek\n",
        "# df1['month_start'] = df1['x_day'].apply(lambda x : 1 if (x < 8 ) else 0)\n",
        "# df1['x_weekend'] = df1['day'].apply(lambda x: 1 if (x >=5 ) else 0)\n",
        "\n",
        "# df1.drop(columns=['date', 'x_day', 'day'], axis = 1, inplace= True)\n",
        "\n",
        "# df1 = df1.reindex(columns= ['country', 'store', 'product', 'month_start', 'x_weekend', ])\n",
        "\n",
        "# df1"
      ],
      "metadata": {
        "id": "Y_FjMxBgV_CH"
      },
      "execution_count": 5,
      "outputs": []
    },
    {
      "cell_type": "code",
      "source": [
        "\n",
        "print(df.shape)\n",
        "from scipy import stats\n",
        "\n",
        "\n",
        "\n",
        "from scipy import stats\n",
        "\n",
        "df['z_score']=stats.zscore(df['num_sold'])\n",
        "\n",
        "\n",
        "\n",
        "df = df.loc[df['z_score'] < 3]\n",
        "\n",
        "print(df.shape)"
      ],
      "metadata": {
        "colab": {
          "base_uri": "https://localhost:8080/"
        },
        "id": "ROWrPloPgANU",
        "outputId": "ad5736a2-a409-4bc9-81e3-7cad97d395b5"
      },
      "execution_count": 6,
      "outputs": [
        {
          "output_type": "stream",
          "name": "stdout",
          "text": [
            "(26298, 12)\n",
            "(25895, 13)\n"
          ]
        }
      ]
    },
    {
      "cell_type": "code",
      "source": [
        "X = df.copy()\n",
        "X= X.drop(['num_sold','z_score'], axis= 1)\n",
        "y = df.iloc[:,3].values\n",
        "X = X.iloc[:,:].values"
      ],
      "metadata": {
        "id": "dB9b8zUrStET"
      },
      "execution_count": 7,
      "outputs": []
    },
    {
      "cell_type": "code",
      "source": [
        "from sklearn.compose import ColumnTransformer\n",
        "from sklearn.preprocessing import OneHotEncoder\n",
        "ct = ColumnTransformer(transformers=[('encoder', OneHotEncoder(), [0])], remainder='passthrough')\n",
        "X = np.array(ct.fit_transform(X))"
      ],
      "metadata": {
        "id": "S6MYAKLsTj_1"
      },
      "execution_count": 8,
      "outputs": []
    },
    {
      "cell_type": "code",
      "source": [
        "from sklearn.compose import ColumnTransformer\n",
        "from sklearn.preprocessing import OneHotEncoder\n",
        "ct1 = ColumnTransformer(transformers=[('encoder', OneHotEncoder(), [4])], remainder='passthrough')\n",
        "X = np.array(ct1.fit_transform(X))"
      ],
      "metadata": {
        "id": "Ij9TY9zuUkHm"
      },
      "execution_count": 9,
      "outputs": []
    },
    {
      "cell_type": "code",
      "source": [
        "from sklearn.compose import ColumnTransformer\n",
        "from sklearn.preprocessing import OneHotEncoder\n",
        "ct1 = ColumnTransformer(transformers=[('encoder', OneHotEncoder(), [-9])], remainder='passthrough')\n",
        "X = np.array(ct1.fit_transform(X))"
      ],
      "metadata": {
        "id": "PSikSCzzlfvg"
      },
      "execution_count": 10,
      "outputs": []
    },
    {
      "cell_type": "code",
      "source": [
        "from sklearn.compose import ColumnTransformer\n",
        "from sklearn.preprocessing import OneHotEncoder\n",
        "ct1 = ColumnTransformer(transformers=[('encoder', OneHotEncoder(), [-8])], remainder='passthrough')\n",
        "X = np.array(ct1.fit_transform(X))"
      ],
      "metadata": {
        "id": "IK_wRfbiUw4B"
      },
      "execution_count": 11,
      "outputs": []
    },
    {
      "cell_type": "code",
      "source": [
        "from sklearn.model_selection import train_test_split\n",
        "X_train, X_test, y_train, y_test = train_test_split(X, y, test_size = 0.2, random_state = 0)"
      ],
      "metadata": {
        "id": "jZD257GwXRP3"
      },
      "execution_count": 12,
      "outputs": []
    },
    {
      "cell_type": "code",
      "source": [
        "from sklearn.ensemble import RandomForestRegressor\n",
        "regressor = RandomForestRegressor(n_estimators = 10, random_state = 0,max_features = 12)\n",
        "regressor.fit(X_train, y_train)"
      ],
      "metadata": {
        "colab": {
          "base_uri": "https://localhost:8080/"
        },
        "id": "t28je5ZgU2a5",
        "outputId": "4f289221-8e77-4041-9bf5-3e40062776e0"
      },
      "execution_count": 13,
      "outputs": [
        {
          "output_type": "execute_result",
          "data": {
            "text/plain": [
              "RandomForestRegressor(max_features=12, n_estimators=10, random_state=0)"
            ]
          },
          "metadata": {},
          "execution_count": 13
        }
      ]
    },
    {
      "cell_type": "code",
      "source": [
        "y_pred = regressor.predict(X_test)\n",
        "np.set_printoptions(precision=2)\n",
        "print(np.concatenate((y_pred.reshape(len(y_pred),1), y_test.reshape(len(y_test),1)),1))"
      ],
      "metadata": {
        "colab": {
          "base_uri": "https://localhost:8080/"
        },
        "id": "BdLwhMNKVUQe",
        "outputId": "e93ed8ad-ddc5-4d15-bf70-c70e878c2dad"
      },
      "execution_count": 14,
      "outputs": [
        {
          "output_type": "stream",
          "name": "stdout",
          "text": [
            "[[205.  228. ]\n",
            " [998.7 931. ]\n",
            " [412.5 382. ]\n",
            " ...\n",
            " [ 90.1  91. ]\n",
            " [508.7 455. ]\n",
            " [724.7 721. ]]\n"
          ]
        }
      ]
    },
    {
      "cell_type": "code",
      "source": [
        "from sklearn.metrics import mean_squared_error\n",
        "\n",
        "rms = mean_squared_error(y_test, y_pred, squared=False)\n",
        "rms"
      ],
      "metadata": {
        "id": "O4q2Vdh1bphX",
        "colab": {
          "base_uri": "https://localhost:8080/"
        },
        "outputId": "28965688-8063-40c7-e318-d743d66d3042"
      },
      "execution_count": 15,
      "outputs": [
        {
          "output_type": "execute_result",
          "data": {
            "text/plain": [
              "32.05668092080996"
            ]
          },
          "metadata": {},
          "execution_count": 15
        }
      ]
    }
  ]
}